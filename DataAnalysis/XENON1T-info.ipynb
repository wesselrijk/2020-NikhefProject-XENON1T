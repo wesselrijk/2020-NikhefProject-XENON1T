{
 "cells": [
  {
   "cell_type": "markdown",
   "metadata": {},
   "source": [
    "# XENON1T Information File\n",
    "\n",
    "You can use the information in the xenon1t.ini file to find various information on XENON1T"
   ]
  },
  {
   "cell_type": "code",
   "execution_count": 1,
   "metadata": {},
   "outputs": [
    {
     "data": {
      "text/plain": [
       "['xenon1t.ini']"
      ]
     },
     "execution_count": 1,
     "metadata": {},
     "output_type": "execute_result"
    }
   ],
   "source": [
    "from configparser import ConfigParser, ExtendedInterpolation\n",
    "config = ConfigParser(inline_comment_prefixes='#', interpolation=ExtendedInterpolation(), strict=True)\n",
    "#config = ConfigParser()\n",
    "config.optionsxform = str\n",
    "config.read('xenon1t.ini')"
   ]
  },
  {
   "cell_type": "code",
   "execution_count": 2,
   "metadata": {},
   "outputs": [
    {
     "name": "stdout",
     "output_type": "stream",
     "text": [
      "tpc_name\n",
      "tpc_length\n",
      "tpc_radius\n",
      "electron_lifetime_liquid\n",
      "drift_velocity_liquid\n",
      "drift_time_gate\n",
      "shrink_data_threshold\n",
      "xy_posrec_preference\n",
      "channels_in_detector\n",
      "n_channels\n",
      "pmt_0_is_fake\n",
      "channels_top\n",
      "channels_bottom\n",
      "gains\n",
      "gain_sigmas\n",
      "quantum_efficiencies\n",
      "relative_qe_error\n",
      "relative_gain_error\n",
      "pmts\n"
     ]
    }
   ],
   "source": [
    "for key in config['DEFAULT']:\n",
    "    print(key)"
   ]
  },
  {
   "cell_type": "code",
   "execution_count": 3,
   "metadata": {},
   "outputs": [
    {
     "data": {
      "text/plain": [
       "'\"XENON1T\"'"
      ]
     },
     "execution_count": 3,
     "metadata": {},
     "output_type": "execute_result"
    }
   ],
   "source": [
    "config['DEFAULT']['tpc_name']"
   ]
  },
  {
   "cell_type": "markdown",
   "metadata": {},
   "source": [
    "## PMT gains\n",
    "You can use the PMT gains to normalize the output of all the PMTs"
   ]
  },
  {
   "cell_type": "code",
   "execution_count": 4,
   "metadata": {},
   "outputs": [
    {
     "name": "stdout",
     "output_type": "stream",
     "text": [
      "2251522.5\n"
     ]
    }
   ],
   "source": [
    "gains = eval(config['DEFAULT']['gains'])\n",
    "print(gains[100])"
   ]
  },
  {
   "cell_type": "markdown",
   "metadata": {},
   "source": [
    "PMT information\n",
    "\n",
    "You have access to various PMT information. The only information that is really useful for you probably is the 'position' attribute. \n",
    "\n",
    "You need to 'eval' the string in the config file first "
   ]
  },
  {
   "cell_type": "code",
   "execution_count": 5,
   "metadata": {},
   "outputs": [],
   "source": [
    "pmt = eval(config['DEFAULT']['pmts']) # You need to 'eval' the string first to make it into a list"
   ]
  },
  {
   "cell_type": "markdown",
   "metadata": {},
   "source": [
    "## PMT information\n",
    "You have access to various PMT information. The only information that is really useful for you probably is the 'position' attribute"
   ]
  },
  {
   "cell_type": "code",
   "execution_count": 6,
   "metadata": {},
   "outputs": [
    {
     "data": {
      "text/plain": [
       "{'amplifier': {'crate': 1, 'fan': -1, 'plug': 5, 'serial': 29651, 'slot': 4},\n",
       " 'array': 'top',\n",
       " 'digitizer': {'channel': 3, 'crate': 0, 'module': 1244, 'slot': 10},\n",
       " 'high_voltage': {'channel': 5, 'connector': 3, 'feedthrough': 0, 'return': 3},\n",
       " 'pmt_position': 0,\n",
       " 'position': {'x': -12.345668451390225, 'y': 46.074661913988564},\n",
       " 'serial_number': 511,\n",
       " 'signal': {'channel': 5, 'connector': 3, 'feedthrough': 1}}"
      ]
     },
     "execution_count": 6,
     "metadata": {},
     "output_type": "execute_result"
    }
   ],
   "source": [
    "pmt[0]"
   ]
  },
  {
   "cell_type": "code",
   "execution_count": 7,
   "metadata": {},
   "outputs": [
    {
     "data": {
      "text/plain": [
       "{'x': -12.345668451390225, 'y': 46.074661913988564}"
      ]
     },
     "execution_count": 7,
     "metadata": {},
     "output_type": "execute_result"
    }
   ],
   "source": [
    "pmt[0]['position']"
   ]
  },
  {
   "cell_type": "code",
   "execution_count": null,
   "metadata": {},
   "outputs": [],
   "source": []
  }
 ],
 "metadata": {
  "kernelspec": {
   "display_name": "Python 3",
   "language": "python",
   "name": "python3"
  },
  "language_info": {
   "codemirror_mode": {
    "name": "ipython",
    "version": 3
   },
   "file_extension": ".py",
   "mimetype": "text/x-python",
   "name": "python",
   "nbconvert_exporter": "python",
   "pygments_lexer": "ipython3",
   "version": "3.6.9"
  }
 },
 "nbformat": 4,
 "nbformat_minor": 2
}
