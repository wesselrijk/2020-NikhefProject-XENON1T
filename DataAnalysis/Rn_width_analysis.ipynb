{
 "cells": [
  {
   "cell_type": "markdown",
   "metadata": {},
   "source": [
    "# Analysis of the Rn-220 data # \n",
    "Author: Marjolein Heidotting\n",
    "\n",
    "Notebook that analyses differences between the widths of peaks before and after event selection based on S1 and S2 peaks. Also provides a simple correlation plot and studies the number of S1 and S2 peaks in the first thousands events."
   ]
  },
  {
   "cell_type": "code",
   "execution_count": 7,
   "metadata": {},
   "outputs": [],
   "source": [
    "import Zip\n",
    "import numpy as np\n",
    "import matplotlib as mpl\n",
    "import matplotlib.pyplot as plt\n",
    "import matplotlib.patches as patches\n",
    "import time\n",
    "import math\n",
    "import pickle\n",
    "\n",
    "# Channels in the detector\n",
    "det_ch = { 'tpc': list(range(0, 247+1)), 'veto': list(range(248, 253+1)), \n",
    "          'sum_wv': [254], 'busy_on': [255], 'busy_off': [256],\n",
    "          'hev_on': [257], 'hev_off': [258], 'muon_veto_trigger': [259], } \n",
    "n_channels = 260\n",
    "\n",
    "# for reading the ini file\n",
    "from configparser import ConfigParser, ExtendedInterpolation\n",
    "config = ConfigParser(inline_comment_prefixes='#', interpolation=ExtendedInterpolation(), strict=True)\n",
    "config.optionsxform = str\n",
    "config.read('xenon1t.ini')\n",
    "\n",
    "# The data files\n",
    "NG = Zip.ReadZipped(\"/data/nikhefproject/data/xenon1t/NG\") # Neutron data\n",
    "Rn220 = Zip.ReadZipped(\"/data/nikhefproject/data/xenon1t/Rn220\") # Rn-220 data"
   ]
  },
  {
   "cell_type": "code",
   "execution_count": 8,
   "metadata": {},
   "outputs": [],
   "source": [
    "#importing the data with Radon source\n",
    "with open('Rn220_data.p', 'rb') as fp:\n",
    "    Rn_data = pickle.load(fp)"
   ]
  },
  {
   "cell_type": "code",
   "execution_count": 8,
   "metadata": {},
   "outputs": [
    {
     "name": "stdout",
     "output_type": "stream",
     "text": [
      "Rn220 event {'event': 343, 's1': 58677.0, 's2': 361574.0, 's1_position': 100053, 's2_position': 169954}\n"
     ]
    }
   ],
   "source": [
    "#printing one event from the selected radon-220 data\n",
    "print(\"Rn220 event\", Rn_data[200])"
   ]
  },
  {
   "cell_type": "code",
   "execution_count": 9,
   "metadata": {},
   "outputs": [
    {
     "name": "stdout",
     "output_type": "stream",
     "text": [
      "There are  852  events in the Radon220 data where the s2 occured before the s1\n"
     ]
    }
   ],
   "source": [
    "#Removing events where S2 occurs before S1\n",
    "reverse_eventsRn = []\n",
    "for event in Rn_data:\n",
    "    if event['s2_position'] < event['s1_position']:\n",
    "        #print(event['event'])\n",
    "        reverse_eventsRn.append(event)\n",
    "        #Rn_data.remove(event)\n",
    "reverseRn  = len(reverse_eventsRn)\n",
    "print(\"There are \", len(reverse_eventsRn), \" events in the Radon220 data where the s2 occured before the s1\")"
   ]
  },
  {
   "cell_type": "code",
   "execution_count": 10,
   "metadata": {},
   "outputs": [],
   "source": [
    "for event in reverse_eventsRn:\n",
    "    Rn_data.remove(event)"
   ]
  },
  {
   "cell_type": "code",
   "execution_count": 11,
   "metadata": {},
   "outputs": [
    {
     "name": "stdout",
     "output_type": "stream",
     "text": [
      "Number of used events 5069\n",
      "Number of registered events 9998\n",
      "The fraction of events that is left after filtering  0.507001400280056\n"
     ]
    }
   ],
   "source": [
    "#Checking to see how many of the events are used\n",
    "#making a list of all events with valid S1s and S2s for the Radon data\n",
    "eventlist = []\n",
    "\n",
    "for event in Rn_data:\n",
    "    eventlist.append(event['event'])\n",
    "print(\"Number of used events\", len(eventlist))\n",
    "print(\"Number of registered events\", max(eventlist))\n",
    "print(\"The fraction of events that is left after filtering \", len(eventlist)/max(eventlist))"
   ]
  },
  {
   "cell_type": "code",
   "execution_count": 13,
   "metadata": {},
   "outputs": [
    {
     "data": {
      "image/png": "[encoded data removed]",
      "text/plain": [
       "<matplotlib.figure.Figure at 0x7f13d7bc79b0>"
      ]
     },
     "metadata": {},
     "output_type": "display_data"
    }
   ],
   "source": [
    "#Radon correlation plot\n",
    "#setting the number of events to loop over\n",
    "eventnum = len(Rn_data)\n",
    "\n",
    "s1list = []\n",
    "s2list = []\n",
    "\n",
    "#looping over all events and putting them in collective lists\n",
    "for event in Rn_data:\n",
    "    s1list.append(event['s1'])\n",
    "    s2list.append(event['s2'])\n",
    "    \n",
    "#print(s1list)\n",
    "colors = (0,0,0)\n",
    "area = np.pi*3\n",
    "\n",
    "s1 = np.array(s1list)\n",
    "s2 = np.array(s2list)\n",
    "\n",
    "# Plot\n",
    "plt.hist2d(s2,s1,bins=(100,100),cmin=1) #making the plot, leaving out empty bin\n",
    "plt.title('Correlation plot')\n",
    "plt.xlabel('S2')\n",
    "plt.ylabel('S1')\n",
    "plt.colorbar()\n",
    "plt.show()"
   ]
  },
  {
   "cell_type": "code",
   "execution_count": 7,
   "metadata": {},
   "outputs": [],
   "source": [
    "def Peaks(pulse, printall):\n",
    "    \n",
    "    # The standard variables\n",
    "    q = 0\n",
    "    left_t, right_t = 0, 0\n",
    "    baseline = 16382.\n",
    "    std = 2.3\n",
    "    ch = pulse.channel\n",
    "    wave = pulse.raw_data\n",
    "    \n",
    "    # The index for the minimum\n",
    "    minindex = len(wave)\n",
    "    \n",
    "    # Variables for the average, the ratio and the slope\n",
    "    avfound = 0\n",
    "    samplelist = [wave[0]]\n",
    "    ratio = 1\n",
    "    slope = 0\n",
    "    sw = 0\n",
    "\n",
    "    s = np.std(wave)\n",
    "    delta = baseline - np.min(wave)\n",
    "    if min(s, delta) > 5*std:\n",
    "        for samples in enumerate(wave):\n",
    "            base_sub = samples[1] - baseline\n",
    "            if abs(base_sub) > 5*std:\n",
    "                q = q + base_sub\n",
    "            \n",
    "            # Compute the average of the previous samples\n",
    "            av = np.average(samplelist)\n",
    "            \n",
    "            # left_t is assigned when a significant deviation from the average is recorded\n",
    "            if abs(samples[1] - av) > 20 and left_t == 0:\n",
    "                left_t = samples[0]\n",
    "                \n",
    "                # The sample value at left_t is kept for the slope calculation\n",
    "                leftsample = samplelist[-1]\n",
    "                if printall:\n",
    "                    print(\"left_t here\")\n",
    "                avfound = av\n",
    "             \n",
    "            # Find the index for the minimum\n",
    "            if samples[1] == np.min(wave):\n",
    "                minindex = samples[0]\n",
    "\n",
    "            # right_t is assigned in a similar way as left_t\n",
    "            if abs(samples[1] - avfound) < 20 and samples[0] > minindex and right_t == 0: \n",
    "                right_t = samples[0]\n",
    "                if printall:\n",
    "                    print(\"right_t here\")\n",
    "                \n",
    "            # Add the current sample to the sample list\n",
    "            samplelist.append(samples[1])\n",
    "            \n",
    "            # A printing section in case the raw data needs to be analysed\n",
    "            if printall:\n",
    "                print(samples)\n",
    "                print(\"Average:\", av)\n",
    "                if left_t == 0:\n",
    "                    print(\"Average difference:\", abs(samples[1] - av))\n",
    "                else:\n",
    "                    print(\"Average difference:\", abs(samples[1] - avfound))\n",
    "                print()\n",
    "        \n",
    "        # Calculate the ratio and the slope\n",
    "        ratio = np.min(wave)/int(avfound)\n",
    "        delta_x = minindex - left_t\n",
    "        if delta_x != 0:\n",
    "            slope = (np.min(wave) - leftsample)/delta_x\n",
    "        \n",
    "    else:\n",
    "        baseline = np.average(wave)\n",
    "        std = s\n",
    "    width = right_t - left_t\n",
    "    if width != 0:\n",
    "        sw = slope/width\n",
    "        if -q/width < 3*std or ratio >= 0.99:\n",
    "            q = 0\n",
    "    return (ch, q, width, pulse.left+left_t, sw)"
   ]
  },
  {
   "cell_type": "code",
   "execution_count": 16,
   "metadata": {},
   "outputs": [],
   "source": [
    "def width_finder(boundary, eventnum, selected):\n",
    "    \"\"\"\n",
    "    Finding the widths of the peaks in a certain event\n",
    "    \n",
    "    @param eventnum: The number of the events that is being looked at\n",
    "    \n",
    "    @type widthlist: list\n",
    "    @param widthlist: contains the widths of the peaks in the given event\n",
    "    \n",
    "    @type returnlist: list\n",
    "    @param returnlist: [[eventnumber], [s1 peaks], [s2 peaks]]\n",
    "    \"\"\"\n",
    "    \n",
    "    #setting\n",
    "    event = 0\n",
    "    returnlist = []\n",
    "    widthlist = []\n",
    "    \n",
    "    if selected == False:\n",
    "        for eventn in range(eventnum):\n",
    "            print(\"currently working on event\", eventn)\n",
    "            returnlist.append([event, [],[]])\n",
    "            \n",
    "            event = Rn220.get_single_event(eventn)\n",
    "        \n",
    "            for p in event.pulses: #looping over pulses\n",
    "                result = Peaks(p, False)\n",
    "            \n",
    "            \n",
    "                if result[2] != 0:\n",
    "                    widthlist.append(result[2])\n",
    "                    if result[2]<boundary:#and len(returnlist[-1][1]) == 0:\n",
    "                        returnlist[-1][1].append(result[2])\n",
    "                    else:\n",
    "                        returnlist[-1][2].append(result[2])            \n",
    "            \n",
    "            \n",
    "    \n",
    "    if selected == True:\n",
    "        #looping over all selected events\n",
    "        for event in Rn_data:\n",
    "        \n",
    "            print(\"currently working on event\", event['event'])\n",
    "            returnlist.append([event, [],[]])\n",
    "            \n",
    "            event = Rn220.get_single_event(event['event'])\n",
    "        \n",
    "            for p in event.pulses: #looping over pulses\n",
    "                result = Peaks(p, False)\n",
    "            \n",
    "            \n",
    "                if result[2] != 0:\n",
    "                    widthlist.append(result[2])\n",
    "                    if result[2]<boundary:#and len(returnlist[-1][1]) == 0:\n",
    "                        returnlist[-1][1].append(result[2])\n",
    "                    else:\n",
    "                        returnlist[-1][2].append(result[2])\n",
    "                \n",
    "                \n",
    "\n",
    "    return returnlist, widthlist\n"
   ]
  },
  {
   "cell_type": "code",
   "execution_count": 3,
   "metadata": {},
   "outputs": [],
   "source": [
    "\n",
    "\n",
    "def width_finder(start, stop, boundary):\n",
    "    \"\"\"\n",
    "    Finding the widths of the peaks in a certain event\n",
    "    "
   ]
  },
  {
   "cell_type": "code",
   "execution_count": null,
   "metadata": {},
   "outputs": [],
   "source": []
  },
  {
   "cell_type": "code",
   "execution_count": null,
   "metadata": {},
   "outputs": [],
   "source": [
    "#Making a list of the first 1000 Rn-200 data events\n",
    "masterlist = width_finder(100,1000,False) "
   ]
  },
  {
   "cell_type": "code",
   "execution_count": null,
   "metadata": {},
   "outputs": [],
   "source": [
    "#with open('parrot.pkl', 'wb') as f:\n",
    " #      pickle.dump(mylist, f)"
   ]
  },
  {
   "cell_type": "code",
   "execution_count": 84,
   "metadata": {},
   "outputs": [
    {
     "data": {
      "image/png": "[encoded data removed]",
      "text/plain": [
       "<matplotlib.figure.Figure at 0x7f2b91af9518>"
      ]
     },
     "metadata": {},
     "output_type": "display_data"
    }
   ],
   "source": [
    "hist = masterlist[1]\n",
    "n, bins, patches = plt.hist(hist, 50, range=(-0.5,75.5))\n",
    "plt.xlabel('Peak width')\n",
    "#plt.yscale('log')\n",
    "plt.ylabel('Entries')\n",
    "plt.savefig(\"Rn_peak_width_unselected.png\")"
   ]
  },
  {
   "cell_type": "code",
   "execution_count": null,
   "metadata": {},
   "outputs": [],
   "source": []
  },
  {
   "cell_type": "code",
   "execution_count": 2,
   "metadata": {},
   "outputs": [
    {
     "ename": "NameError",
     "evalue": "name 'masterlist' is not defined",
     "output_type": "error",
     "traceback": [
      "\u001b[0;31m---------------------------------------------------------------------------\u001b[0m",
      "\u001b[0;31mNameError\u001b[0m                                 Traceback (most recent call last)",
      "\u001b[0;32m<ipython-input-2-8dcd8d4c3034>\u001b[0m in \u001b[0;36m<module>\u001b[0;34m()\u001b[0m\n\u001b[1;32m      2\u001b[0m \u001b[0ms2numlist\u001b[0m \u001b[0;34m=\u001b[0m \u001b[0;34m[\u001b[0m\u001b[0;34m]\u001b[0m\u001b[0;34m\u001b[0m\u001b[0;34m\u001b[0m\u001b[0m\n\u001b[1;32m      3\u001b[0m \u001b[0;34m\u001b[0m\u001b[0m\n\u001b[0;32m----> 4\u001b[0;31m \u001b[0;32mfor\u001b[0m \u001b[0mevent\u001b[0m \u001b[0;32min\u001b[0m \u001b[0mmasterlist\u001b[0m\u001b[0;34m[\u001b[0m\u001b[0;36m0\u001b[0m\u001b[0;34m]\u001b[0m\u001b[0;34m:\u001b[0m\u001b[0;34m\u001b[0m\u001b[0;34m\u001b[0m\u001b[0m\n\u001b[0m\u001b[1;32m      5\u001b[0m     \u001b[0ms1numlist\u001b[0m\u001b[0;34m.\u001b[0m\u001b[0mappend\u001b[0m\u001b[0;34m(\u001b[0m\u001b[0mlen\u001b[0m\u001b[0;34m(\u001b[0m\u001b[0mevent\u001b[0m\u001b[0;34m[\u001b[0m\u001b[0;36m1\u001b[0m\u001b[0;34m]\u001b[0m\u001b[0;34m)\u001b[0m\u001b[0;34m)\u001b[0m\u001b[0;34m\u001b[0m\u001b[0;34m\u001b[0m\u001b[0m\n\u001b[1;32m      6\u001b[0m     \u001b[0ms2numlist\u001b[0m\u001b[0;34m.\u001b[0m\u001b[0mappend\u001b[0m\u001b[0;34m(\u001b[0m\u001b[0mlen\u001b[0m\u001b[0;34m(\u001b[0m\u001b[0mevent\u001b[0m\u001b[0;34m[\u001b[0m\u001b[0;36m2\u001b[0m\u001b[0;34m]\u001b[0m\u001b[0;34m)\u001b[0m\u001b[0;34m)\u001b[0m\u001b[0;34m\u001b[0m\u001b[0;34m\u001b[0m\u001b[0m\n",
      "\u001b[0;31mNameError\u001b[0m: name 'masterlist' is not defined"
     ]
    }
   ],
   "source": [
    "#Making lists of the number of S1 and S2 peaks per event\n",
    "s1numlist = []\n",
    "s2numlist = []\n",
    "\n",
    "for event in masterlist[0]:\n",
    "    s1numlist.append(len(event[1]))\n",
    "    s2numlist.append(len(event[2]))\n",
    "    \n",
    "\n",
    "#Making a histogram of the accumulated number of peaks per event over all PMTs    \n",
    "hist = s2numlist\n",
    "n, bins, patches = plt.hist(hist, 25, range=(-0.5,1000.5), alpha =0.5, label ='s2 peaks')\n",
    "plt.hist(s1numlist, 25, range=(-0.5,1000.5), alpha =0.5, label='s1 peaks')\n",
    "plt.xlabel('Total number of peaks per event on all channels')\n",
    "#plt.yscale('log')\n",
    "plt.ylabel('Entries')\n",
    "plt.legend()\n",
    "plt.savefig(\"numberofs1s2.png\")"
   ]
  },
  {
   "cell_type": "code",
   "execution_count": 71,
   "metadata": {},
   "outputs": [
    {
     "name": "stdout",
     "output_type": "stream",
     "text": [
      "2491960 642548 0.2578484405849211\n"
     ]
    }
   ],
   "source": [
    "#calculating the number of s1 peaks and the number of s2 peaks\n",
    "s1s = 0\n",
    "s2s = 0\n",
    "\n",
    "for element in masterlist[0]:\n",
    "    #print(element)\n",
    "    s1s+=len(element[1])\n",
    "    s2s+=len(element[2])\n",
    "print(\"There are \",s1s,\" S1 peaks, and \", s2s,\" S2 peaks\")"
   ]
  },
  {
   "cell_type": "code",
   "execution_count": null,
   "metadata": {},
   "outputs": [],
   "source": []
  },
  {
   "cell_type": "code",
   "execution_count": 101,
   "metadata": {},
   "outputs": [
    {
     "name": "stdout",
     "output_type": "stream",
     "text": [
      "[9, 39, 42, 59, 76, 108, 116, 151, 180, 188, 226, 245, 265, 267, 311, 327, 330, 332, 341, 345, 346, 352, 359, 361, 429, 438, 454, 463, 496, 518, 519, 522, 525, 555, 592, 605, 628, 645, 679, 709, 712, 747, 753, 805, 809, 819, 847, 890, 908, 944, 956, 970, 977]\n",
      "[0, 3, 6, 7, 18, 23, 30, 36, 43, 46, 47, 56, 65, 71, 78, 80, 84, 85, 87, 92, 94, 97, 99, 100, 102, 103, 105, 114, 115, 117, 119, 124, 125, 127, 131, 137, 141, 144, 148, 149, 155, 167, 169, 171, 182, 184, 193, 194, 197, 201, 203, 211, 214, 219, 230, 231, 233, 234, 241, 246, 248, 249, 252, 255, 256, 264, 270, 273, 277, 283, 288, 290, 292, 296, 297, 301, 304, 310, 314, 316, 320, 321, 322, 328, 329, 333, 334, 336, 338, 342, 348, 350, 354, 356, 362, 364, 372, 379, 382, 383, 385, 388, 393, 395, 396, 397, 401, 407, 411, 418, 419, 420, 423, 426, 428, 430, 431, 433, 441, 442, 446, 447, 448, 451, 452, 458, 469, 471, 473, 474, 477, 478, 482, 486, 497, 499, 509, 511, 517, 520, 527, 528, 529, 530, 532, 533, 537, 539, 543, 544, 551, 553, 556, 563, 568, 570, 573, 580, 585, 587, 588, 591, 596, 597, 599, 604, 610, 613, 618, 620, 624, 625, 630, 631, 632, 633, 635, 636, 640, 641, 649, 650, 652, 655, 656, 663, 666, 672, 674, 675, 680, 683, 694, 702, 705, 707, 720, 725, 730, 733, 738, 744, 746, 748, 750, 752, 755, 760, 762, 770, 771, 773, 774, 776, 781, 782, 785, 789, 797, 800, 801, 802, 810, 811, 818, 821, 826, 827, 829, 830, 831, 832, 837, 841, 842, 843, 846, 857, 858, 862, 866, 872, 875, 886, 887, 899, 901, 902, 905, 909, 910, 911, 916, 918, 920, 928, 929, 930, 935, 936, 937, 941, 945, 947, 951, 959, 965, 968, 969, 972, 979, 984, 987, 992, 996, 997]\n"
     ]
    }
   ],
   "source": [
    "#Making lists of events where the number of S2 peaks is between 400 and 450 and those where it is between 0 and 100\n",
    "doubles2s = []\n",
    "singles2s = []\n",
    "\n",
    "for event in masterlist[0]:\n",
    "    if len(event[2]) > 400 and len(event[2]) < 450:\n",
    "        doubles2s.append(event[0])\n",
    "        \n",
    "    if len(event[2]) > 0 and len(event[2]) < 100:\n",
    "        singles2s.append(event[0])\n",
    "        \n",
    "print(doubles2s)\n",
    "print(singles2s)"
   ]
  },
  {
   "cell_type": "code",
   "execution_count": 3,
   "metadata": {},
   "outputs": [],
   "source": [
    "\"\"\"take gains into account for each adc value\"\"\"\n",
    "\"\"\"only look at top PMTs (for position reconstruction)\"\"\"\n",
    "\n",
    "# A waveform reader function\n",
    "def Waveform(raw,eventnr):\n",
    "    event = raw.get_single_event(eventnr)\n",
    "    ch_top = eval(config['DEFAULT']['channels_top'])\n",
    "    gain = eval(config['DEFAULT']['gains'])\n",
    "                                \n",
    "    #The variables that check if a channel is the minimum channel\n",
    "    adcmin = 16382\n",
    "    minchannel = 0\n",
    "    \n",
    "    #A list that holds all the channels with significant pulses \n",
    "    channellist = []\n",
    "    \n",
    "    #Create the datapoint arrays\n",
    "    n = 350000  \n",
    "    ts = np.ones((n_channels, n), dtype=np.int16)\n",
    "    ts = ts * 16382 \n",
    "    t = np.linspace(0, n, n) \n",
    "    counter = False\n",
    "    #s = 0\n",
    "    \n",
    "    #Loop over all pulses in the event\n",
    "    for p in event.pulses:\n",
    "        ch = p.channel\n",
    "        if ch in ch_top:  #only top PMTs\n",
    "            i = np.zeros(n_channels, dtype = int)\n",
    "            for adc in p.raw_data:\n",
    "                try:\n",
    "                #Add the ADC value to the appropriate channel array\n",
    "                    ts[ch][p.left + i[ch]] = adc\n",
    "                    #print(\"adc: \", adc)\n",
    "                    if gain[ch]!=0:\n",
    "                        adc_corrected = 16382 - (16382 - adc)/gain[ch]*4911399 #corrected by relative gain\n",
    "                        #print(\"%: \", gain[ch]/4800000)\n",
    "                    else:\n",
    "                        adc_corrected = 0#np.inf #if we put 0 here, PMTs with 0 gain are taken into account for minchannel\n",
    "                    #print(\"corrected: \",adc_corrected)\n",
    "                    i[ch] = i[ch] + 1\n",
    "                except IndexError:\n",
    "                        #s += 1\n",
    "                        counter = True\n",
    "                        \n",
    "                #Append all significant main channels to the list\n",
    "                if adc_corrected < 15000 and ch not in channellist and ch in det_ch['tpc']:\n",
    "                    channellist.append(ch)\n",
    "                \n",
    "                #Check which channel is the minimum channel\n",
    "                if adc_corrected < adcmin:\n",
    "                    adcmin = adc_corrected\n",
    "                    minchannel = ch\n",
    "                \n",
    "    #Sort for convenience\n",
    "    channellist.sort()\n",
    "    return t, ts, channellist, minchannel, counter"
   ]
  },
  {
   "cell_type": "code",
   "execution_count": 4,
   "metadata": {},
   "outputs": [],
   "source": []
  },
  {
   "cell_type": "code",
   "execution_count": 10,
   "metadata": {},
   "outputs": [
    {
     "ename": "KeyboardInterrupt",
     "evalue": "",
     "output_type": "error",
     "traceback": [
      "\u001b[0;31m---------------------------------------------------------------------------\u001b[0m",
      "\u001b[0;31mKeyboardInterrupt\u001b[0m                         Traceback (most recent call last)",
      "\u001b[0;32m<ipython-input-10-a12cc2c2441c>\u001b[0m in \u001b[0;36m<module>\u001b[0;34m()\u001b[0m\n\u001b[1;32m     18\u001b[0m \u001b[0;31m#Looping over all events in the lists\u001b[0m\u001b[0;34m\u001b[0m\u001b[0;34m\u001b[0m\u001b[0;34m\u001b[0m\u001b[0m\n\u001b[1;32m     19\u001b[0m \u001b[0;32mfor\u001b[0m \u001b[0meventnumber\u001b[0m \u001b[0;32min\u001b[0m \u001b[0mdoubles2s\u001b[0m\u001b[0;34m:\u001b[0m\u001b[0;34m\u001b[0m\u001b[0;34m\u001b[0m\u001b[0m\n\u001b[0;32m---> 20\u001b[0;31m     \u001b[0mInput\u001b[0m \u001b[0;34m=\u001b[0m \u001b[0mWaveform\u001b[0m\u001b[0;34m(\u001b[0m\u001b[0mRn220\u001b[0m\u001b[0;34m,\u001b[0m\u001b[0meventnumber\u001b[0m\u001b[0;34m)\u001b[0m\u001b[0;34m\u001b[0m\u001b[0;34m\u001b[0m\u001b[0m\n\u001b[0m\u001b[1;32m     21\u001b[0m     \u001b[0mwaveform_figures\u001b[0m\u001b[0;34m(\u001b[0m\u001b[0mInput\u001b[0m\u001b[0;34m,\u001b[0m \u001b[0meventnumber\u001b[0m\u001b[0;34m,\u001b[0m \u001b[0;34m'MultipleS2peaks_BroadWaveformRn_'\u001b[0m\u001b[0;34m)\u001b[0m\u001b[0;34m\u001b[0m\u001b[0;34m\u001b[0m\u001b[0m\n\u001b[1;32m     22\u001b[0m \u001b[0;32mfor\u001b[0m \u001b[0meventnumber\u001b[0m \u001b[0;32min\u001b[0m \u001b[0msingles2s\u001b[0m\u001b[0;34m:\u001b[0m\u001b[0;34m\u001b[0m\u001b[0;34m\u001b[0m\u001b[0m\n",
      "\u001b[0;32m<ipython-input-3-db15a2429c42>\u001b[0m in \u001b[0;36mWaveform\u001b[0;34m(raw, eventnr)\u001b[0m\n\u001b[1;32m     39\u001b[0m                         \u001b[0madc_corrected\u001b[0m \u001b[0;34m=\u001b[0m \u001b[0;36m0\u001b[0m\u001b[0;31m#np.inf #if we put 0 here, PMTs with 0 gain are taken into account for minchannel\u001b[0m\u001b[0;34m\u001b[0m\u001b[0;34m\u001b[0m\u001b[0m\n\u001b[1;32m     40\u001b[0m                     \u001b[0;31m#print(\"corrected: \",adc_corrected)\u001b[0m\u001b[0;34m\u001b[0m\u001b[0;34m\u001b[0m\u001b[0;34m\u001b[0m\u001b[0m\n\u001b[0;32m---> 41\u001b[0;31m                     \u001b[0mi\u001b[0m\u001b[0;34m[\u001b[0m\u001b[0mch\u001b[0m\u001b[0;34m]\u001b[0m \u001b[0;34m=\u001b[0m \u001b[0mi\u001b[0m\u001b[0;34m[\u001b[0m\u001b[0mch\u001b[0m\u001b[0;34m]\u001b[0m \u001b[0;34m+\u001b[0m \u001b[0;36m1\u001b[0m\u001b[0;34m\u001b[0m\u001b[0;34m\u001b[0m\u001b[0m\n\u001b[0m\u001b[1;32m     42\u001b[0m                 \u001b[0;32mexcept\u001b[0m \u001b[0mIndexError\u001b[0m\u001b[0;34m:\u001b[0m\u001b[0;34m\u001b[0m\u001b[0;34m\u001b[0m\u001b[0m\n\u001b[1;32m     43\u001b[0m                         \u001b[0;31m#s += 1\u001b[0m\u001b[0;34m\u001b[0m\u001b[0;34m\u001b[0m\u001b[0;34m\u001b[0m\u001b[0m\n",
      "\u001b[0;31mKeyboardInterrupt\u001b[0m: "
     ]
    },
    {
     "data": {
      "image/png": "[encoded data removed]",
      "text/plain": [
       "<matplotlib.figure.Figure at 0x7f979e12fe48>"
      ]
     },
     "metadata": {},
     "output_type": "display_data"
    }
   ],
   "source": [
    "#Making waveforms of the events from the populations with a low number of peaks and a high number of peaks\n",
    "import seaborn as sns\n",
    "sns.set(style='white', font='serif', context='notebook', font_scale=1.7)\n",
    "\n",
    "#Defining a function to make waveforms\n",
    "def waveform_figures(Input, eventnumber, name):\n",
    "    plt.rcParams[\"figure.figsize\"] = (10, 7)\n",
    "    figs, ax = plt.subplots()\n",
    "    ax.plot(Input[0]/1000., Input[1][50], label='Channel' + str(254), color = 'blue')\n",
    "    ax.set_ylabel(\"ADC\")\n",
    "    ax.set_xlabel(\"Time offset [ms]\")\n",
    "    ax.set_title('Event ' + str(eventnumber))\n",
    "    #ax.legend()\n",
    "    plt.tight_layout()\n",
    "    fname = name+str(eventnumber)+'_better.pdf'\n",
    "    figs.savefig(fname, dpi = (200))\n",
    "    \n",
    "#Looping over all events in the lists\n",
    "for eventnumber in doubles2s:    \n",
    "    Input = Waveform(Rn220,eventnumber)\n",
    "    waveform_figures(Input, eventnumber, 'MultipleS2peaks_BroadWaveformRn_')\n",
    "for eventnumber in singles2s:\n",
    "    Input = Waveform(Rn220,eventnumber)\n",
    "    waveform_figures(Input, eventnumber, 'SingleS2peaks_BroadWaveformRn_')    "
   ]
  },
  {
   "cell_type": "code",
   "execution_count": null,
   "metadata": {},
   "outputs": [],
   "source": []
  }
 ],
 "metadata": {
  "kernelspec": {
   "display_name": "Python 3",
   "language": "python",
   "name": "python3"
  },
  "language_info": {
   "codemirror_mode": {
    "name": "ipython",
    "version": 3
   },
   "file_extension": ".py",
   "mimetype": "text/x-python",
   "name": "python",
   "nbconvert_exporter": "python",
   "pygments_lexer": "ipython3",
   "version": "3.6.9"
  }
 },
 "nbformat": 4,
 "nbformat_minor": 2
}
