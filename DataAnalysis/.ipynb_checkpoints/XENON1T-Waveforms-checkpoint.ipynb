{
 "cells": [
  {
   "cell_type": "code",
   "execution_count": 1,
   "metadata": {},
   "outputs": [],
   "source": [
    "import Zip\n",
    "import numpy as np\n",
    "import matplotlib\n",
    "import matplotlib.pyplot as plt\n",
    "import time\n",
    "\n",
    "#The list of channels in the detector\n",
    "channels_in_detector = { 'tpc': list(range(0, 247+1)), 'veto': list(range(248, 253+1)), 'sum_wv': [254], 'busy_on': [255], 'busy_off': [256], 'hev_on': [257], 'hev_off': [258], 'muon_veto_trigger': [259], } \n",
    "n_channels = 260"
   ]
  },
  {
   "cell_type": "code",
   "execution_count": 2,
   "metadata": {},
   "outputs": [],
   "source": [
    "#The calibration data files\n",
    "NG = Zip.ReadZipped(\"/data/nikhefproject/data/xenon1t/NG\") # Neutron data\n",
    "Rn220 = Zip.ReadZipped(\"/data/nikhefproject/data/xenon1t/Rn220\") # Rn-220 data"
   ]
  },
  {
   "cell_type": "code",
   "execution_count": 3,
   "metadata": {},
   "outputs": [
    {
     "name": "stdout",
     "output_type": "stream",
     "text": [
      "[0, 3, 4, 6, 24, 30, 32, 33, 35, 36, 37, 38, 39, 40, 41, 63, 64, 66, 67, 68, 69, 70, 74, 75, 81, 87, 89, 90, 92, 95, 96, 98, 104, 105, 106, 107, 108, 109, 121, 126, 127, 128, 129, 131, 132, 133, 136, 138, 140, 141, 142, 143, 144, 145, 146, 147, 149, 151, 153, 154, 155, 156, 157, 158, 159, 160, 161, 163, 164, 165, 166, 168, 169, 170, 171, 172, 173, 174, 175, 176, 177, 179, 180, 181, 182, 184, 185, 186, 187, 188, 189, 191, 192, 193, 194, 195, 196, 197, 199, 200, 201, 202, 204, 207, 208, 209, 210, 211, 212, 215, 216, 217, 218, 219, 220, 221, 222, 223, 224, 225, 226, 227, 228, 229, 230, 231, 232, 233, 235, 236, 237, 238, 240, 241, 242, 243, 245, 246, 247]\n",
      "The lowest recorded ADC reading for event 4 occured in channel 0\n"
     ]
    }
   ],
   "source": [
    "# A waveform reader function\n",
    "def Waveform(eventnr):\n",
    "    event = NG.get_single_event(eventnr)\n",
    "                                \n",
    "    #The variables that check if a channel is the minimum channel\n",
    "    adcmin = 16382\n",
    "    minchannel = 0\n",
    "    \n",
    "    #A list that holds all the channels with significant pulses \n",
    "    channellist = []\n",
    "    \n",
    "    #Create the datapoint arrays\n",
    "    n = 350000  \n",
    "    ts = np.ones((n_channels, n), dtype=np.int16)\n",
    "    ts = ts * 16382 \n",
    "    t = np.linspace(0, n, n) \n",
    "    \n",
    "    #Loop over all pulses in the event\n",
    "    for p in event.pulses:\n",
    "        ch = p.channel\n",
    "        i = np.zeros(n_channels, dtype = int)\n",
    "        #print(p.channel, \": \", p.left, p.right-p.left)\n",
    "        for adc in p.raw_data:\n",
    "            \n",
    "            #Add the ADC value to the appropriate channel array\n",
    "            ts[ch][p.left + i[ch]] = adc\n",
    "            i[ch] = i[ch] + 1\n",
    "            \n",
    "            #Append all significant main channels to the list\n",
    "            if adc < 15000 and ch not in channellist and ch in channels_in_detector['tpc']:\n",
    "                channellist.append(ch)\n",
    "                \n",
    "            #Check which channel is the minimum channel\n",
    "            if adc < adcmin:\n",
    "                adcmin = adc\n",
    "                minchannel = ch\n",
    "                \n",
    "    #Sort for convenience\n",
    "    channellist.sort()\n",
    "    return t, ts, channellist, minchannel\n",
    "\n",
    "#Select the event number and process the waveform\n",
    "eventnumber = 4\n",
    "Input = Waveform(eventnumber)\n",
    "print(Input[2])\n",
    "print('The lowest recorded ADC reading for event %i occured in channel %i' % (eventnumber, Input[3]))"
   ]
  },
  {
   "cell_type": "code",
   "execution_count": 4,
   "metadata": {},
   "outputs": [
    {
     "data": {
      "text/plain": [
       "<matplotlib.legend.Legend at 0x7f8180563320>"
      ]
     },
     "execution_count": 4,
     "metadata": {},
     "output_type": "execute_result"
    },
    {
     "data": {
      "image/png": "[encoded data removed]",
      "text/plain": [
       "<matplotlib.figure.Figure at 0x7f8180667780>"
      ]
     },
     "metadata": {},
     "output_type": "display_data"
    }
   ],
   "source": [
    "#Select two channels to compare\n",
    "channel1 = 0\n",
    "channel2 = 254\n",
    "\n",
    "#Plot the two channels\n",
    "%matplotlib inline\n",
    "plt.rcParams[\"figure.figsize\"] = (10, 10) # can't be in same cell as import matplotlib \n",
    "figs, ax = plt.subplots(2, 1, sharex='col')\n",
    "ax[0].plot(Input[0], Input[1][channel1], label='Channel' + str(channel1), color = 'blue')\n",
    "ax[1].plot(Input[0], Input[1][channel2], label='Channel' + str(channel1), color='orange')\n",
    "ax[0].set_ylabel(\"ADC\")\n",
    "ax[1].set_ylabel(\"ADC\")\n",
    "ax[1].set_xlabel(\"time [sample]\")\n",
    "ax[0].set_title('Event ' + str(eventnumber))\n",
    "ax[0].legend()\n",
    "ax[1].legend()\n",
    "#ax[0].set_xlim(90000,120000)\n",
    "#ax[1].set_xlim(90000,120000)"
   ]
  },
  {
   "cell_type": "code",
   "execution_count": null,
   "metadata": {},
   "outputs": [],
   "source": []
  }
 ],
 "metadata": {
  "kernelspec": {
   "display_name": "Python 3",
   "language": "python",
   "name": "python3"
  },
  "language_info": {
   "codemirror_mode": {
    "name": "ipython",
    "version": 3
   },
   "file_extension": ".py",
   "mimetype": "text/x-python",
   "name": "python",
   "nbconvert_exporter": "python",
   "pygments_lexer": "ipython3",
   "version": "3.6.9"
  }
 },
 "nbformat": 4,
 "nbformat_minor": 2
}
